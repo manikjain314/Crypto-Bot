{
 "cells": [
  {
   "cell_type": "code",
   "execution_count": null,
   "metadata": {},
   "outputs": [],
   "source": [
    "import discord\n",
    "from discord.ext import tasks, commands\n",
    "from datetime import datetime\n",
    "import requests\n",
    "import bs4\n",
    "import nest_asyncio\n",
    "nest_asyncio.apply()\n",
    "\n",
    "file = open(\"token.txt\", mode=\"r\")\n",
    "token = file.readline().strip()"
   ]
  },
  {
   "cell_type": "code",
   "execution_count": null,
   "metadata": {},
   "outputs": [],
   "source": [
    "def coin_price(url):\n",
    "    req = requests.get(url)\n",
    "    soup = bs4.BeautifulSoup(req.text)\n",
    "    e = str(soup.find_all(attrs={'class': 'price'})[0])\n",
    "    price = float(e[e.index(\"-->\")+3:e.index(\"</\")])\n",
    "    \n",
    "    return price"
   ]
  },
  {
   "cell_type": "code",
   "execution_count": null,
   "metadata": {},
   "outputs": [],
   "source": [
    "prev_link_price = 0.01\n",
    "prev_flow_price = 0.01\n",
    "client = commands.Bot(command_prefix = \".\")\n",
    "\n",
    "@client.event\n",
    "async def on_ready():\n",
    "    print_prices.start()\n",
    "    print(\"Bot initialized\")\n",
    "    \n",
    "@tasks.loop(seconds=3600)\n",
    "async def print_prices():\n",
    "    global prev_link_price\n",
    "    global prev_flow_price\n",
    "    \n",
    "    channel = client.get_channel(745923825727963166)\n",
    "    \n",
    "    link_price = coin_price(\"https://www.livecoinwatch.com/price/ChainLink-LINK\")\n",
    "    flow_price = coin_price(\"https://www.livecoinwatch.com/price/FlowProtocol-FLOW\")\n",
    "    \n",
    "    message = \"**---------------\\nHOURLY UPDATE: *\" + datetime.now().strftime(\"%H:%M:%S\") + \"***\\n```LINK: \\n$\" + str(link_price) + \" (\" + str(round(100*(link_price-prev_link_price)/prev_link_price, 2)) + \"%) \"\n",
    "    message += (\"🚀\" if link_price > prev_link_price else \"📉\" if link_price < prev_link_price else \"🤔\") + \"\\n\\n\"\n",
    "    \n",
    "    message += \"FLOW: \\n$\" + str(flow_price) + \" (\" + str(round(100*(flow_price-prev_flow_price)/prev_flow_price, 2)) + \"%) \"\n",
    "    message += (\"🚀\" if flow_price > prev_flow_price else \"📉\" if flow_price < prev_flow_price else \"🤔\") + \"```\"\n",
    "    \n",
    "    await channel.send(message)\n",
    "    prev_link_price = link_price\n",
    "    prev_flow_price = flow_price\n",
    "        \n",
    "client.run(token)"
   ]
  },
  {
   "cell_type": "code",
   "execution_count": null,
   "metadata": {},
   "outputs": [],
   "source": []
  }
 ],
 "metadata": {
  "kernelspec": {
   "display_name": "Python 3",
   "language": "python",
   "name": "python3"
  },
  "language_info": {
   "codemirror_mode": {
    "name": "ipython",
    "version": 3
   },
   "file_extension": ".py",
   "mimetype": "text/x-python",
   "name": "python",
   "nbconvert_exporter": "python",
   "pygments_lexer": "ipython3",
   "version": "3.7.4"
  }
 },
 "nbformat": 4,
 "nbformat_minor": 2
}
