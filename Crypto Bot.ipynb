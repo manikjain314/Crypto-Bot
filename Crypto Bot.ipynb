{
 "cells": [
  {
   "cell_type": "code",
   "execution_count": 1,
   "metadata": {},
   "outputs": [],
   "source": [
    "import discord\n",
    "from discord.ext import tasks, commands\n",
    "from datetime import datetime\n",
    "import requests\n",
    "import bs4\n",
    "import nest_asyncio\n",
    "nest_asyncio.apply()\n",
    "\n",
    "file = open(\"token.txt\", mode=\"r\")\n",
    "token = file.readline().strip()\n",
    "general_channel = int(file.readline().strip())"
   ]
  },
  {
   "cell_type": "code",
   "execution_count": 2,
   "metadata": {},
   "outputs": [],
   "source": [
    "class Coin:\n",
    "    def __init__(self, url, symbol):\n",
    "        self.symbol = symbol\n",
    "        self.price = self.coin_price(url)\n",
    "        self.url = url\n",
    "        \n",
    "    def coin_price(self, url):\n",
    "        try:\n",
    "            req = requests.get(url)\n",
    "            soup = bs4.BeautifulSoup(req.text)\n",
    "            e = str(soup.find_all(attrs={'class': 'price'})[0])\n",
    "            price = float(e[e.index(\"-->\")+3:e.index(\"</\")])\n",
    "            return price\n",
    "        except:\n",
    "            return 0.01\n",
    "\n",
    "    def print_price(self):\n",
    "        st = \"\"\n",
    "        current_price = self.coin_price(self.url)\n",
    "        \n",
    "        st += self.symbol + \": \\n$\" + str(current_price) + \" (\" + str(round(100*(current_price-self.price)/self.price, 2)) + \"%) \"\n",
    "        st += (\"🚀\" if current_price > self.price else \"📉\" if current_price < self.price else \"\") + \"\\n\\n\"\n",
    "        \n",
    "        self.price = current_price\n",
    "        return st"
   ]
  },
  {
   "cell_type": "code",
   "execution_count": 3,
   "metadata": {},
   "outputs": [
    {
     "name": "stdout",
     "output_type": "stream",
     "text": [
      "Bot initialized\n"
     ]
    },
    {
     "ename": "RuntimeError",
     "evalue": "Cannot close a running event loop",
     "output_type": "error",
     "traceback": [
      "\u001b[1;31m---------------------------------------------------------------------------\u001b[0m",
      "\u001b[1;31mRuntimeError\u001b[0m                              Traceback (most recent call last)",
      "\u001b[1;32m<ipython-input-3-39396b31b01b>\u001b[0m in \u001b[0;36m<module>\u001b[1;34m\u001b[0m\n\u001b[0;32m     67\u001b[0m         \u001b[1;32mawait\u001b[0m \u001b[0mchannel\u001b[0m\u001b[1;33m.\u001b[0m\u001b[0msend\u001b[0m\u001b[1;33m(\u001b[0m\u001b[0mmessage\u001b[0m\u001b[1;33m)\u001b[0m\u001b[1;33m\u001b[0m\u001b[1;33m\u001b[0m\u001b[0m\n\u001b[0;32m     68\u001b[0m \u001b[1;33m\u001b[0m\u001b[0m\n\u001b[1;32m---> 69\u001b[1;33m \u001b[0mclient\u001b[0m\u001b[1;33m.\u001b[0m\u001b[0mrun\u001b[0m\u001b[1;33m(\u001b[0m\u001b[0mtoken\u001b[0m\u001b[1;33m)\u001b[0m\u001b[1;33m\u001b[0m\u001b[1;33m\u001b[0m\u001b[0m\n\u001b[0m",
      "\u001b[1;32mC:\\ProgramData\\Anaconda3\\lib\\site-packages\\discord\\client.py\u001b[0m in \u001b[0;36mrun\u001b[1;34m(self, *args, **kwargs)\u001b[0m\n\u001b[0;32m    672\u001b[0m             \u001b[0mfuture\u001b[0m\u001b[1;33m.\u001b[0m\u001b[0mremove_done_callback\u001b[0m\u001b[1;33m(\u001b[0m\u001b[0mstop_loop_on_completion\u001b[0m\u001b[1;33m)\u001b[0m\u001b[1;33m\u001b[0m\u001b[1;33m\u001b[0m\u001b[0m\n\u001b[0;32m    673\u001b[0m             \u001b[0mlog\u001b[0m\u001b[1;33m.\u001b[0m\u001b[0minfo\u001b[0m\u001b[1;33m(\u001b[0m\u001b[1;34m'Cleaning up tasks.'\u001b[0m\u001b[1;33m)\u001b[0m\u001b[1;33m\u001b[0m\u001b[1;33m\u001b[0m\u001b[0m\n\u001b[1;32m--> 674\u001b[1;33m             \u001b[0m_cleanup_loop\u001b[0m\u001b[1;33m(\u001b[0m\u001b[0mloop\u001b[0m\u001b[1;33m)\u001b[0m\u001b[1;33m\u001b[0m\u001b[1;33m\u001b[0m\u001b[0m\n\u001b[0m\u001b[0;32m    675\u001b[0m \u001b[1;33m\u001b[0m\u001b[0m\n\u001b[0;32m    676\u001b[0m         \u001b[1;32mif\u001b[0m \u001b[1;32mnot\u001b[0m \u001b[0mfuture\u001b[0m\u001b[1;33m.\u001b[0m\u001b[0mcancelled\u001b[0m\u001b[1;33m(\u001b[0m\u001b[1;33m)\u001b[0m\u001b[1;33m:\u001b[0m\u001b[1;33m\u001b[0m\u001b[1;33m\u001b[0m\u001b[0m\n",
      "\u001b[1;32mC:\\ProgramData\\Anaconda3\\lib\\site-packages\\discord\\client.py\u001b[0m in \u001b[0;36m_cleanup_loop\u001b[1;34m(loop)\u001b[0m\n\u001b[0;32m     96\u001b[0m     \u001b[1;32mfinally\u001b[0m\u001b[1;33m:\u001b[0m\u001b[1;33m\u001b[0m\u001b[1;33m\u001b[0m\u001b[0m\n\u001b[0;32m     97\u001b[0m         \u001b[0mlog\u001b[0m\u001b[1;33m.\u001b[0m\u001b[0minfo\u001b[0m\u001b[1;33m(\u001b[0m\u001b[1;34m'Closing the event loop.'\u001b[0m\u001b[1;33m)\u001b[0m\u001b[1;33m\u001b[0m\u001b[1;33m\u001b[0m\u001b[0m\n\u001b[1;32m---> 98\u001b[1;33m         \u001b[0mloop\u001b[0m\u001b[1;33m.\u001b[0m\u001b[0mclose\u001b[0m\u001b[1;33m(\u001b[0m\u001b[1;33m)\u001b[0m\u001b[1;33m\u001b[0m\u001b[1;33m\u001b[0m\u001b[0m\n\u001b[0m\u001b[0;32m     99\u001b[0m \u001b[1;33m\u001b[0m\u001b[0m\n\u001b[0;32m    100\u001b[0m \u001b[1;32mclass\u001b[0m \u001b[0m_ClientEventTask\u001b[0m\u001b[1;33m(\u001b[0m\u001b[0masyncio\u001b[0m\u001b[1;33m.\u001b[0m\u001b[0mTask\u001b[0m\u001b[1;33m)\u001b[0m\u001b[1;33m:\u001b[0m\u001b[1;33m\u001b[0m\u001b[1;33m\u001b[0m\u001b[0m\n",
      "\u001b[1;32mC:\\ProgramData\\Anaconda3\\lib\\asyncio\\selector_events.py\u001b[0m in \u001b[0;36mclose\u001b[1;34m(self)\u001b[0m\n\u001b[0;32m     81\u001b[0m     \u001b[1;32mdef\u001b[0m \u001b[0mclose\u001b[0m\u001b[1;33m(\u001b[0m\u001b[0mself\u001b[0m\u001b[1;33m)\u001b[0m\u001b[1;33m:\u001b[0m\u001b[1;33m\u001b[0m\u001b[1;33m\u001b[0m\u001b[0m\n\u001b[0;32m     82\u001b[0m         \u001b[1;32mif\u001b[0m \u001b[0mself\u001b[0m\u001b[1;33m.\u001b[0m\u001b[0mis_running\u001b[0m\u001b[1;33m(\u001b[0m\u001b[1;33m)\u001b[0m\u001b[1;33m:\u001b[0m\u001b[1;33m\u001b[0m\u001b[1;33m\u001b[0m\u001b[0m\n\u001b[1;32m---> 83\u001b[1;33m             \u001b[1;32mraise\u001b[0m \u001b[0mRuntimeError\u001b[0m\u001b[1;33m(\u001b[0m\u001b[1;34m\"Cannot close a running event loop\"\u001b[0m\u001b[1;33m)\u001b[0m\u001b[1;33m\u001b[0m\u001b[1;33m\u001b[0m\u001b[0m\n\u001b[0m\u001b[0;32m     84\u001b[0m         \u001b[1;32mif\u001b[0m \u001b[0mself\u001b[0m\u001b[1;33m.\u001b[0m\u001b[0mis_closed\u001b[0m\u001b[1;33m(\u001b[0m\u001b[1;33m)\u001b[0m\u001b[1;33m:\u001b[0m\u001b[1;33m\u001b[0m\u001b[1;33m\u001b[0m\u001b[0m\n\u001b[0;32m     85\u001b[0m             \u001b[1;32mreturn\u001b[0m\u001b[1;33m\u001b[0m\u001b[1;33m\u001b[0m\u001b[0m\n",
      "\u001b[1;31mRuntimeError\u001b[0m: Cannot close a running event loop"
     ]
    }
   ],
   "source": [
    "client = commands.Bot(command_prefix = \".\")\n",
    "coins = []\n",
    "coin_symbols = set()\n",
    "\n",
    "@client.event\n",
    "async def on_ready():\n",
    "    channel = client.get_channel(general_channel)\n",
    "    print_prices.start()\n",
    "    print(\"Bot initialized\")\n",
    "    \n",
    "    await channel.send(\"**Hello! Type !help for more information**\")\n",
    "    \n",
    "@client.event\n",
    "async def on_message(message):\n",
    "    if \"!\" in message.content and message.content[0] == \"!\":\n",
    "        if message.content.lower().strip() == \"!help\":\n",
    "            st = \"**INSTRUCTIONS**\\n```\"\n",
    "            st += \"1. Go to https://www.livecoinwatch.com \\n\"\n",
    "            st += \"2. Search your desired coin\\n\"\n",
    "            st += \"3. Add coin via command: !<url> (replace <url> with the url of the coin page)\\n\\n\"\n",
    "            st += \"OR...\\nType !coins to view active tokens.\"\n",
    "            st += \"```\"\n",
    "            await message.channel.send(st)\n",
    "        elif message.content.lower().strip() == \"!coins\":\n",
    "            if coins:\n",
    "                st = \"```\" + str(len(coins)) + \" active coins:\\n\\n\"\n",
    "                \n",
    "                for i in range(len(coins)):\n",
    "                    coins[i].price = coins[i].coin_price(coins[i].url)\n",
    "                \n",
    "                for i,j in enumerate(coins):\n",
    "                    st += str(i+1) + \". \" + j.symbol + \" ($\" + str(j.price) + \")\" + \"\\n\"\n",
    "                st += \"```\"\n",
    "            else:\n",
    "                st = \"No active coins. Add one now!\"\n",
    "                \n",
    "            await message.channel.send(st)\n",
    "            \n",
    "        else:\n",
    "            try:\n",
    "                url = message.content[1:]\n",
    "                symbol = message.content[message.content.index(\"-\")+1:].strip().upper()\n",
    "                new_coin = Coin(url, symbol)\n",
    "                st = new_coin.print_price()\n",
    "                \n",
    "                if symbol not in coin_symbols:\n",
    "                    coin_symbols.add(symbol)\n",
    "                    coins.append(new_coin)\n",
    "                    await message.channel.send(\"```Successfully added coin: \" + symbol + \" ✔```\")\n",
    "                    \n",
    "                else:\n",
    "                    await message.channel.send(\"```\" + symbol + \" is already added!```\")\n",
    "                    \n",
    "            except:\n",
    "                await message.channel.send(\"```Unable to parse link: \" + message.content[1:] + \" ❌```\")\n",
    "    \n",
    "@tasks.loop(seconds=600)\n",
    "async def print_prices():\n",
    "    channel = client.get_channel(general_channel)\n",
    "    \n",
    "    if coins:\n",
    "        message = \"**⌚ PRICE UPDATE: *\" + datetime.now().strftime(\"%H:%M:%S\") + \" EST***\\n```\"\n",
    "        for coin in coins:\n",
    "            message += coin.print_price()\n",
    "\n",
    "        message += \"```\"\n",
    "        await channel.send(message)\n",
    "        \n",
    "client.run(token)"
   ]
  },
  {
   "cell_type": "code",
   "execution_count": null,
   "metadata": {},
   "outputs": [],
   "source": []
  }
 ],
 "metadata": {
  "kernelspec": {
   "display_name": "Python 3",
   "language": "python",
   "name": "python3"
  },
  "language_info": {
   "codemirror_mode": {
    "name": "ipython",
    "version": 3
   },
   "file_extension": ".py",
   "mimetype": "text/x-python",
   "name": "python",
   "nbconvert_exporter": "python",
   "pygments_lexer": "ipython3",
   "version": "3.7.4"
  }
 },
 "nbformat": 4,
 "nbformat_minor": 2
}
